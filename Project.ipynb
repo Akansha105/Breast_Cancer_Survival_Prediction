{
 "cells": [
  {
   "cell_type": "markdown",
   "id": "575fde86",
   "metadata": {},
   "source": [
    "# DATA PREPROCESSING"
   ]
  },
  {
   "cell_type": "markdown",
   "id": "25d4924f",
   "metadata": {},
   "source": [
    "### Import the library"
   ]
  },
  {
   "cell_type": "code",
   "execution_count": 118,
   "id": "477614c0",
   "metadata": {},
   "outputs": [],
   "source": [
    "import numpy as np\n",
    "import pandas as pd\n",
    "import matplotlib.pyplot as py"
   ]
  },
  {
   "cell_type": "code",
   "execution_count": 119,
   "id": "46dfa181",
   "metadata": {},
   "outputs": [],
   "source": [
    "data=pd.read_csv('breast_cancer_survival.csv')"
   ]
  },
  {
   "cell_type": "code",
   "execution_count": 120,
   "id": "28c93760",
   "metadata": {},
   "outputs": [
    {
     "data": {
      "text/html": [
       "<div>\n",
       "<style scoped>\n",
       "    .dataframe tbody tr th:only-of-type {\n",
       "        vertical-align: middle;\n",
       "    }\n",
       "\n",
       "    .dataframe tbody tr th {\n",
       "        vertical-align: top;\n",
       "    }\n",
       "\n",
       "    .dataframe thead th {\n",
       "        text-align: right;\n",
       "    }\n",
       "</style>\n",
       "<table border=\"1\" class=\"dataframe\">\n",
       "  <thead>\n",
       "    <tr style=\"text-align: right;\">\n",
       "      <th></th>\n",
       "      <th>Age</th>\n",
       "      <th>Gender</th>\n",
       "      <th>Protein1</th>\n",
       "      <th>Protein2</th>\n",
       "      <th>Protein3</th>\n",
       "      <th>Protein4</th>\n",
       "      <th>Tumour_Stage</th>\n",
       "      <th>Histology</th>\n",
       "      <th>ER status</th>\n",
       "      <th>PR status</th>\n",
       "      <th>HER2 status</th>\n",
       "      <th>Surgery_type</th>\n",
       "      <th>Date_of_Surgery</th>\n",
       "      <th>Date_of_Last_Visit</th>\n",
       "      <th>Patient_Status</th>\n",
       "    </tr>\n",
       "  </thead>\n",
       "  <tbody>\n",
       "    <tr>\n",
       "      <th>0</th>\n",
       "      <td>42</td>\n",
       "      <td>FEMALE</td>\n",
       "      <td>0.95256</td>\n",
       "      <td>2.15000</td>\n",
       "      <td>0.007972</td>\n",
       "      <td>-0.048340</td>\n",
       "      <td>II</td>\n",
       "      <td>Infiltrating Ductal Carcinoma</td>\n",
       "      <td>Positive</td>\n",
       "      <td>Positive</td>\n",
       "      <td>Negative</td>\n",
       "      <td>Other</td>\n",
       "      <td>20-May-18</td>\n",
       "      <td>26-Aug-18</td>\n",
       "      <td>Alive</td>\n",
       "    </tr>\n",
       "    <tr>\n",
       "      <th>1</th>\n",
       "      <td>54</td>\n",
       "      <td>FEMALE</td>\n",
       "      <td>0.00000</td>\n",
       "      <td>1.38020</td>\n",
       "      <td>-0.498030</td>\n",
       "      <td>-0.507320</td>\n",
       "      <td>II</td>\n",
       "      <td>Infiltrating Ductal Carcinoma</td>\n",
       "      <td>Positive</td>\n",
       "      <td>Positive</td>\n",
       "      <td>Negative</td>\n",
       "      <td>Other</td>\n",
       "      <td>26-Apr-18</td>\n",
       "      <td>25-Jan-19</td>\n",
       "      <td>Dead</td>\n",
       "    </tr>\n",
       "    <tr>\n",
       "      <th>2</th>\n",
       "      <td>63</td>\n",
       "      <td>FEMALE</td>\n",
       "      <td>-0.52303</td>\n",
       "      <td>1.76400</td>\n",
       "      <td>-0.370190</td>\n",
       "      <td>0.010815</td>\n",
       "      <td>II</td>\n",
       "      <td>Infiltrating Ductal Carcinoma</td>\n",
       "      <td>Positive</td>\n",
       "      <td>Positive</td>\n",
       "      <td>Negative</td>\n",
       "      <td>Lumpectomy</td>\n",
       "      <td>24-Aug-18</td>\n",
       "      <td>08-Apr-20</td>\n",
       "      <td>Alive</td>\n",
       "    </tr>\n",
       "    <tr>\n",
       "      <th>3</th>\n",
       "      <td>78</td>\n",
       "      <td>FEMALE</td>\n",
       "      <td>-0.87618</td>\n",
       "      <td>0.12943</td>\n",
       "      <td>-0.370380</td>\n",
       "      <td>0.132190</td>\n",
       "      <td>I</td>\n",
       "      <td>Infiltrating Ductal Carcinoma</td>\n",
       "      <td>Positive</td>\n",
       "      <td>Positive</td>\n",
       "      <td>Negative</td>\n",
       "      <td>Other</td>\n",
       "      <td>16-Nov-18</td>\n",
       "      <td>28-Jul-20</td>\n",
       "      <td>Alive</td>\n",
       "    </tr>\n",
       "    <tr>\n",
       "      <th>4</th>\n",
       "      <td>42</td>\n",
       "      <td>FEMALE</td>\n",
       "      <td>0.22611</td>\n",
       "      <td>1.74910</td>\n",
       "      <td>-0.543970</td>\n",
       "      <td>-0.390210</td>\n",
       "      <td>II</td>\n",
       "      <td>Infiltrating Ductal Carcinoma</td>\n",
       "      <td>Positive</td>\n",
       "      <td>Positive</td>\n",
       "      <td>Positive</td>\n",
       "      <td>Lumpectomy</td>\n",
       "      <td>12-Dec-18</td>\n",
       "      <td>05-Jan-19</td>\n",
       "      <td>Alive</td>\n",
       "    </tr>\n",
       "  </tbody>\n",
       "</table>\n",
       "</div>"
      ],
      "text/plain": [
       "   Age  Gender  Protein1  Protein2  Protein3  Protein4 Tumour_Stage  \\\n",
       "0   42  FEMALE   0.95256   2.15000  0.007972 -0.048340           II   \n",
       "1   54  FEMALE   0.00000   1.38020 -0.498030 -0.507320           II   \n",
       "2   63  FEMALE  -0.52303   1.76400 -0.370190  0.010815           II   \n",
       "3   78  FEMALE  -0.87618   0.12943 -0.370380  0.132190            I   \n",
       "4   42  FEMALE   0.22611   1.74910 -0.543970 -0.390210           II   \n",
       "\n",
       "                       Histology ER status PR status HER2 status Surgery_type  \\\n",
       "0  Infiltrating Ductal Carcinoma  Positive  Positive    Negative        Other   \n",
       "1  Infiltrating Ductal Carcinoma  Positive  Positive    Negative        Other   \n",
       "2  Infiltrating Ductal Carcinoma  Positive  Positive    Negative   Lumpectomy   \n",
       "3  Infiltrating Ductal Carcinoma  Positive  Positive    Negative        Other   \n",
       "4  Infiltrating Ductal Carcinoma  Positive  Positive    Positive   Lumpectomy   \n",
       "\n",
       "  Date_of_Surgery Date_of_Last_Visit Patient_Status  \n",
       "0       20-May-18          26-Aug-18          Alive  \n",
       "1       26-Apr-18          25-Jan-19           Dead  \n",
       "2       24-Aug-18          08-Apr-20          Alive  \n",
       "3       16-Nov-18          28-Jul-20          Alive  \n",
       "4       12-Dec-18          05-Jan-19          Alive  "
      ]
     },
     "execution_count": 120,
     "metadata": {},
     "output_type": "execute_result"
    }
   ],
   "source": [
    "data.head()"
   ]
  },
  {
   "cell_type": "code",
   "execution_count": 121,
   "id": "4c0cc093",
   "metadata": {},
   "outputs": [
    {
     "data": {
      "text/plain": [
       "Age                    0\n",
       "Gender                 0\n",
       "Protein1               0\n",
       "Protein2               0\n",
       "Protein3               0\n",
       "Protein4               0\n",
       "Tumour_Stage           0\n",
       "Histology              0\n",
       "ER status              0\n",
       "PR status              0\n",
       "HER2 status            0\n",
       "Surgery_type           0\n",
       "Date_of_Surgery        0\n",
       "Date_of_Last_Visit    17\n",
       "Patient_Status        13\n",
       "dtype: int64"
      ]
     },
     "execution_count": 121,
     "metadata": {},
     "output_type": "execute_result"
    }
   ],
   "source": [
    "data.isnull().sum()"
   ]
  },
  {
   "cell_type": "code",
   "execution_count": 122,
   "id": "a7324aab",
   "metadata": {},
   "outputs": [],
   "source": [
    "data = data.dropna()"
   ]
  },
  {
   "cell_type": "code",
   "execution_count": 123,
   "id": "5cb82c4b",
   "metadata": {},
   "outputs": [
    {
     "name": "stdout",
     "output_type": "stream",
     "text": [
      "<class 'pandas.core.frame.DataFrame'>\n",
      "Int64Index: 317 entries, 0 to 333\n",
      "Data columns (total 15 columns):\n",
      " #   Column              Non-Null Count  Dtype  \n",
      "---  ------              --------------  -----  \n",
      " 0   Age                 317 non-null    int64  \n",
      " 1   Gender              317 non-null    object \n",
      " 2   Protein1            317 non-null    float64\n",
      " 3   Protein2            317 non-null    float64\n",
      " 4   Protein3            317 non-null    float64\n",
      " 5   Protein4            317 non-null    float64\n",
      " 6   Tumour_Stage        317 non-null    object \n",
      " 7   Histology           317 non-null    object \n",
      " 8   ER status           317 non-null    object \n",
      " 9   PR status           317 non-null    object \n",
      " 10  HER2 status         317 non-null    object \n",
      " 11  Surgery_type        317 non-null    object \n",
      " 12  Date_of_Surgery     317 non-null    object \n",
      " 13  Date_of_Last_Visit  317 non-null    object \n",
      " 14  Patient_Status      317 non-null    object \n",
      "dtypes: float64(4), int64(1), object(10)\n",
      "memory usage: 39.6+ KB\n"
     ]
    }
   ],
   "source": [
    "data.info()"
   ]
  },
  {
   "cell_type": "code",
   "execution_count": 124,
   "id": "8dd3e825",
   "metadata": {},
   "outputs": [
    {
     "name": "stdout",
     "output_type": "stream",
     "text": [
      "FEMALE    313\n",
      "MALE        4\n",
      "Name: Gender, dtype: int64\n"
     ]
    }
   ],
   "source": [
    "print(data.Gender.value_counts())"
   ]
  },
  {
   "cell_type": "markdown",
   "id": "469523a6",
   "metadata": {},
   "source": [
    "#### Tumor stage count"
   ]
  },
  {
   "cell_type": "code",
   "execution_count": 125,
   "id": "ee32ada9",
   "metadata": {},
   "outputs": [
    {
     "name": "stdout",
     "output_type": "stream",
     "text": [
      "II     180\n",
      "III     77\n",
      "I       60\n",
      "Name: Tumour_Stage, dtype: int64\n"
     ]
    }
   ],
   "source": [
    "count = data[\"Tumour_Stage\"].value_counts()\n",
    "print(count)"
   ]
  },
  {
   "cell_type": "code",
   "execution_count": 126,
   "id": "eeedc7d9",
   "metadata": {},
   "outputs": [
    {
     "name": "stdout",
     "output_type": "stream",
     "text": [
      "Index(['II', 'III', 'I'], dtype='object')\n",
      "[180  77  60]\n"
     ]
    }
   ],
   "source": [
    "stages=count.index\n",
    "print(stages)\n",
    "quantity=count.values\n",
    "print(quantity)"
   ]
  },
  {
   "cell_type": "code",
   "execution_count": 127,
   "id": "7032d6e5",
   "metadata": {},
   "outputs": [
    {
     "data": {
      "image/png": "[encoded data removed]",
      "text/plain": [
       "<Figure size 432x288 with 1 Axes>"
      ]
     },
     "metadata": {},
     "output_type": "display_data"
    }
   ],
   "source": [
    "colors=['tab:blue','tab:orange','tab:red']\n",
    "explode=[0,0.2,0.1]\n",
    "fig, ax = py.subplots()\n",
    "ax.pie(quantity, labels = stages, colors = colors, autopct='%.0f%%', explode = explode)\n",
    "ax.set_title('Tumor Stage of Patient')\n",
    "py.show()"
   ]
  },
  {
   "cell_type": "code",
   "execution_count": 128,
   "id": "21aa769d",
   "metadata": {},
   "outputs": [
    {
     "data": {
      "image/png": "[encoded data removed]",
      "text/plain": [
       "<Figure size 864x432 with 2 Axes>"
      ]
     },
     "metadata": {
      "needs_background": "light"
     },
     "output_type": "display_data"
    }
   ],
   "source": [
    "import seaborn as sns\n",
    "# Filter the DataFrame for \"Alive\" and \"Dead\" status\n",
    "alive_df = data[data['Patient_Status'] == 'Alive']\n",
    "dead_df = data[data['Patient_Status'] == 'Dead']\n",
    "\n",
    "# Create a bar chart for Marital Status for Alive status\n",
    "py.figure(figsize=(12, 6))\n",
    "py.subplot(1, 2, 1)  # Create a subplot for \"Alive\"\n",
    "\n",
    "sns.countplot(data=alive_df, x='Tumour_Stage', palette=colors)\n",
    "py.title('Status for Alive Patients')\n",
    "py.xlabel('Stage')\n",
    "py.ylabel('Count')\n",
    "py.xticks(rotation=45)\n",
    "\n",
    "py.subplot(1, 2, 2)\n",
    "sns.countplot(data=dead_df, x='Tumour_Stage', palette=colors)\n",
    "py.title('Status for Dead Patients')\n",
    "py.xlabel('Stage')\n",
    "py.ylabel('Count')\n",
    "py.xticks(rotation=45)\n",
    "py.tight_layout()  # Adjust subplot layout for better presentation\n",
    "py.show()"
   ]
  },
  {
   "cell_type": "markdown",
   "id": "bac72b84",
   "metadata": {},
   "source": [
    "#### Histology "
   ]
  },
  {
   "cell_type": "code",
   "execution_count": 129,
   "id": "a76faac7",
   "metadata": {},
   "outputs": [
    {
     "name": "stdout",
     "output_type": "stream",
     "text": [
      "Infiltrating Ductal Carcinoma     224\n",
      "Infiltrating Lobular Carcinoma     81\n",
      "Mucinous Carcinoma                 12\n",
      "Name: Histology, dtype: int64\n"
     ]
    }
   ],
   "source": [
    "hist=data[\"Histology\"].value_counts()\n",
    "print(hist)"
   ]
  },
  {
   "cell_type": "code",
   "execution_count": 130,
   "id": "4907ea38",
   "metadata": {},
   "outputs": [
    {
     "name": "stdout",
     "output_type": "stream",
     "text": [
      "Index(['Infiltrating Ductal Carcinoma', 'Infiltrating Lobular Carcinoma',\n",
      "       'Mucinous Carcinoma'],\n",
      "      dtype='object')\n",
      "[224  81  12]\n"
     ]
    }
   ],
   "source": [
    "types=hist.index\n",
    "number=hist.values\n",
    "print(types)\n",
    "print(number)"
   ]
  },
  {
   "cell_type": "code",
   "execution_count": 131,
   "id": "d98bac29",
   "metadata": {},
   "outputs": [
    {
     "data": {
      "image/png": "[encoded data removed]",
      "text/plain": [
       "<Figure size 432x288 with 1 Axes>"
      ]
     },
     "metadata": {},
     "output_type": "display_data"
    }
   ],
   "source": [
    "colors=['tab:blue','tab:orange','tab:red']\n",
    "explode=[0,0,0.2]\n",
    "fig, ax = py.subplots()\n",
    "ax.pie(number, labels = types, colors = colors, autopct='%.0f%%', explode = explode)\n",
    "ax.set_title('Histology of Patients')\n",
    "py.show()"
   ]
  },
  {
   "cell_type": "code",
   "execution_count": 132,
   "id": "199be33e",
   "metadata": {},
   "outputs": [
    {
     "data": {
      "image/png": "[encoded data removed]",
      "text/plain": [
       "<Figure size 864x432 with 2 Axes>"
      ]
     },
     "metadata": {
      "needs_background": "light"
     },
     "output_type": "display_data"
    }
   ],
   "source": [
    "alive_df = data[data['Patient_Status'] == 'Alive']\n",
    "dead_df = data[data['Patient_Status'] == 'Dead']\n",
    "\n",
    "# Create a bar chart for Marital Status for Alive status\n",
    "py.figure(figsize=(12, 6))\n",
    "py.subplot(2, 2, 1)  # Create a subplot for \"Alive\"\n",
    "\n",
    "sns.countplot(data=alive_df, x=\"Histology\", palette=colors)\n",
    "py.title('Status for Alive Patients')\n",
    "py.xlabel('TYPE')\n",
    "py.ylabel('Count')\n",
    "py.xticks(rotation=45)\n",
    "\n",
    "py.subplot(2, 2, 2)\n",
    "sns.countplot(data=dead_df, x=\"Histology\", palette=colors)\n",
    "py.title('Status for Dead Patients')\n",
    "py.xlabel('TYPE')\n",
    "py.ylabel('Count')\n",
    "py.xticks(rotation=45)\n",
    "py.tight_layout()  # Adjust subplot layout for better presentation\n",
    "py.show()"
   ]
  },
  {
   "cell_type": "markdown",
   "id": "d7d79aee",
   "metadata": {},
   "source": [
    "#### Status"
   ]
  },
  {
   "cell_type": "code",
   "execution_count": 133,
   "id": "34937e97",
   "metadata": {},
   "outputs": [
    {
     "name": "stdout",
     "output_type": "stream",
     "text": [
      "ER status\n",
      "Positive    317\n",
      "Name: ER status, dtype: int64\n",
      "PR status\n",
      "Positive    317\n",
      "Name: PR status, dtype: int64\n",
      "HER2 status\n",
      "Negative    288\n",
      "Positive     29\n",
      "Name: HER2 status, dtype: int64\n"
     ]
    }
   ],
   "source": [
    "print(\"ER status\")\n",
    "print(data[\"ER status\"].value_counts())\n",
    "print(\"PR status\")\n",
    "print(data[\"PR status\"].value_counts())\n",
    "print(\"HER2 status\")\n",
    "print(data[\"HER2 status\"].value_counts())"
   ]
  },
  {
   "cell_type": "code",
   "execution_count": 134,
   "id": "05f45222",
   "metadata": {},
   "outputs": [
    {
     "name": "stdout",
     "output_type": "stream",
     "text": [
      "Other                          97\n",
      "Modified Radical Mastectomy    89\n",
      "Lumpectomy                     66\n",
      "Simple Mastectomy              65\n",
      "Name: Surgery_type, dtype: int64\n"
     ]
    }
   ],
   "source": [
    "surgery=data[\"Surgery_type\"].value_counts()\n",
    "print(surgery)"
   ]
  },
  {
   "cell_type": "code",
   "execution_count": 135,
   "id": "c713e31b",
   "metadata": {},
   "outputs": [
    {
     "name": "stdout",
     "output_type": "stream",
     "text": [
      "Index(['Other', 'Modified Radical Mastectomy', 'Lumpectomy',\n",
      "       'Simple Mastectomy'],\n",
      "      dtype='object')\n",
      "[97 89 66 65]\n"
     ]
    }
   ],
   "source": [
    "types=surgery.index\n",
    "number=surgery.values\n",
    "print(types)\n",
    "print(number)"
   ]
  },
  {
   "cell_type": "code",
   "execution_count": 136,
   "id": "e672fd00",
   "metadata": {},
   "outputs": [
    {
     "data": {
      "image/png": "[encoded data removed]",
      "text/plain": [
       "<Figure size 432x288 with 1 Axes>"
      ]
     },
     "metadata": {},
     "output_type": "display_data"
    }
   ],
   "source": [
    "colors=['tab:blue','tab:orange','tab:red','tab:pink']\n",
    "explode=[0.1,0,0,0]\n",
    "fig, ax = py.subplots()\n",
    "ax.pie(number, labels = types, colors = colors, autopct='%.0f%%', explode = explode)\n",
    "ax.set_title('Surgery_type')\n",
    "py.show()"
   ]
  },
  {
   "cell_type": "code",
   "execution_count": 137,
   "id": "01eb8cfa",
   "metadata": {},
   "outputs": [
    {
     "data": {
      "image/png": "[encoded data removed]",
      "text/plain": [
       "<Figure size 864x432 with 2 Axes>"
      ]
     },
     "metadata": {
      "needs_background": "light"
     },
     "output_type": "display_data"
    }
   ],
   "source": [
    "alive_df = data[data['Patient_Status'] == 'Alive']\n",
    "dead_df = data[data['Patient_Status'] == 'Dead']\n",
    "\n",
    "# Create a bar chart for Marital Status for Alive status\n",
    "py.figure(figsize=(12, 6))\n",
    "py.subplot(2, 2, 1)  # Create a subplot for \"Alive\"\n",
    "\n",
    "sns.countplot(data=alive_df, x='Surgery_type', palette=colors)\n",
    "py.title('Status for Alive Patients')\n",
    "py.xlabel('TYPE')\n",
    "py.ylabel('Count')\n",
    "py.xticks(rotation=45)\n",
    "\n",
    "py.subplot(2, 2, 2)\n",
    "sns.countplot(data=dead_df, x='Surgery_type', palette=colors)\n",
    "py.title('Status for Dead Patients')\n",
    "py.xlabel('TYPE')\n",
    "py.ylabel('Count')\n",
    "py.xticks(rotation=45)\n",
    "py.tight_layout()  # Adjust subplot layout for better presentation\n",
    "py.show()"
   ]
  },
  {
   "cell_type": "code",
   "execution_count": 138,
   "id": "d292242c",
   "metadata": {},
   "outputs": [
    {
     "data": {
      "text/html": [
       "<div>\n",
       "<style scoped>\n",
       "    .dataframe tbody tr th:only-of-type {\n",
       "        vertical-align: middle;\n",
       "    }\n",
       "\n",
       "    .dataframe tbody tr th {\n",
       "        vertical-align: top;\n",
       "    }\n",
       "\n",
       "    .dataframe thead th {\n",
       "        text-align: right;\n",
       "    }\n",
       "</style>\n",
       "<table border=\"1\" class=\"dataframe\">\n",
       "  <thead>\n",
       "    <tr style=\"text-align: right;\">\n",
       "      <th></th>\n",
       "      <th>Age</th>\n",
       "      <th>Gender</th>\n",
       "      <th>Protein1</th>\n",
       "      <th>Protein2</th>\n",
       "      <th>Protein3</th>\n",
       "      <th>Protein4</th>\n",
       "      <th>Tumour_Stage</th>\n",
       "      <th>Histology</th>\n",
       "      <th>ER status</th>\n",
       "      <th>PR status</th>\n",
       "      <th>HER2 status</th>\n",
       "      <th>Surgery_type</th>\n",
       "      <th>Date_of_Surgery</th>\n",
       "      <th>Date_of_Last_Visit</th>\n",
       "      <th>Patient_Status</th>\n",
       "    </tr>\n",
       "  </thead>\n",
       "  <tbody>\n",
       "    <tr>\n",
       "      <th>0</th>\n",
       "      <td>42</td>\n",
       "      <td>1</td>\n",
       "      <td>0.95256</td>\n",
       "      <td>2.15000</td>\n",
       "      <td>0.007972</td>\n",
       "      <td>-0.048340</td>\n",
       "      <td>2</td>\n",
       "      <td>1</td>\n",
       "      <td>1</td>\n",
       "      <td>1</td>\n",
       "      <td>2</td>\n",
       "      <td>1</td>\n",
       "      <td>20-May-18</td>\n",
       "      <td>26-Aug-18</td>\n",
       "      <td>Alive</td>\n",
       "    </tr>\n",
       "    <tr>\n",
       "      <th>1</th>\n",
       "      <td>54</td>\n",
       "      <td>1</td>\n",
       "      <td>0.00000</td>\n",
       "      <td>1.38020</td>\n",
       "      <td>-0.498030</td>\n",
       "      <td>-0.507320</td>\n",
       "      <td>2</td>\n",
       "      <td>1</td>\n",
       "      <td>1</td>\n",
       "      <td>1</td>\n",
       "      <td>2</td>\n",
       "      <td>1</td>\n",
       "      <td>26-Apr-18</td>\n",
       "      <td>25-Jan-19</td>\n",
       "      <td>Dead</td>\n",
       "    </tr>\n",
       "    <tr>\n",
       "      <th>2</th>\n",
       "      <td>63</td>\n",
       "      <td>1</td>\n",
       "      <td>-0.52303</td>\n",
       "      <td>1.76400</td>\n",
       "      <td>-0.370190</td>\n",
       "      <td>0.010815</td>\n",
       "      <td>2</td>\n",
       "      <td>1</td>\n",
       "      <td>1</td>\n",
       "      <td>1</td>\n",
       "      <td>2</td>\n",
       "      <td>3</td>\n",
       "      <td>24-Aug-18</td>\n",
       "      <td>08-Apr-20</td>\n",
       "      <td>Alive</td>\n",
       "    </tr>\n",
       "    <tr>\n",
       "      <th>3</th>\n",
       "      <td>78</td>\n",
       "      <td>1</td>\n",
       "      <td>-0.87618</td>\n",
       "      <td>0.12943</td>\n",
       "      <td>-0.370380</td>\n",
       "      <td>0.132190</td>\n",
       "      <td>1</td>\n",
       "      <td>1</td>\n",
       "      <td>1</td>\n",
       "      <td>1</td>\n",
       "      <td>2</td>\n",
       "      <td>1</td>\n",
       "      <td>16-Nov-18</td>\n",
       "      <td>28-Jul-20</td>\n",
       "      <td>Alive</td>\n",
       "    </tr>\n",
       "    <tr>\n",
       "      <th>4</th>\n",
       "      <td>42</td>\n",
       "      <td>1</td>\n",
       "      <td>0.22611</td>\n",
       "      <td>1.74910</td>\n",
       "      <td>-0.543970</td>\n",
       "      <td>-0.390210</td>\n",
       "      <td>2</td>\n",
       "      <td>1</td>\n",
       "      <td>1</td>\n",
       "      <td>1</td>\n",
       "      <td>1</td>\n",
       "      <td>3</td>\n",
       "      <td>12-Dec-18</td>\n",
       "      <td>05-Jan-19</td>\n",
       "      <td>Alive</td>\n",
       "    </tr>\n",
       "  </tbody>\n",
       "</table>\n",
       "</div>"
      ],
      "text/plain": [
       "   Age  Gender  Protein1  Protein2  Protein3  Protein4  Tumour_Stage  \\\n",
       "0   42       1   0.95256   2.15000  0.007972 -0.048340             2   \n",
       "1   54       1   0.00000   1.38020 -0.498030 -0.507320             2   \n",
       "2   63       1  -0.52303   1.76400 -0.370190  0.010815             2   \n",
       "3   78       1  -0.87618   0.12943 -0.370380  0.132190             1   \n",
       "4   42       1   0.22611   1.74910 -0.543970 -0.390210             2   \n",
       "\n",
       "   Histology  ER status  PR status  HER2 status  Surgery_type Date_of_Surgery  \\\n",
       "0          1          1          1            2             1       20-May-18   \n",
       "1          1          1          1            2             1       26-Apr-18   \n",
       "2          1          1          1            2             3       24-Aug-18   \n",
       "3          1          1          1            2             1       16-Nov-18   \n",
       "4          1          1          1            1             3       12-Dec-18   \n",
       "\n",
       "  Date_of_Last_Visit Patient_Status  \n",
       "0          26-Aug-18          Alive  \n",
       "1          25-Jan-19           Dead  \n",
       "2          08-Apr-20          Alive  \n",
       "3          28-Jul-20          Alive  \n",
       "4          05-Jan-19          Alive  "
      ]
     },
     "execution_count": 138,
     "metadata": {},
     "output_type": "execute_result"
    }
   ],
   "source": [
    "data[\"Tumour_Stage\"] = data[\"Tumour_Stage\"].map({\"I\": 1, \"II\": 2, \"III\": 3})\n",
    "data[\"Histology\"] = data[\"Histology\"].map({\"Infiltrating Ductal Carcinoma\": 1, \n",
    "                                           \"Infiltrating Lobular Carcinoma\": 2, \"Mucinous Carcinoma\": 3})\n",
    "data[\"ER status\"] = data[\"ER status\"].map({\"Positive\": 1})\n",
    "data[\"PR status\"] = data[\"PR status\"].map({\"Positive\": 1})\n",
    "data[\"HER2 status\"] = data[\"HER2 status\"].map({\"Positive\": 1, \"Negative\": 2})\n",
    "data[\"Gender\"] = data[\"Gender\"].map({\"MALE\": 0, \"FEMALE\": 1})\n",
    "data[\"Surgery_type\"] = data[\"Surgery_type\"].map({\"Other\": 1, \"Modified Radical Mastectomy\": 2, \n",
    "                                                 \"Lumpectomy\": 3, \"Simple Mastectomy\": 4})\n",
    "data.head()"
   ]
  },
  {
   "cell_type": "markdown",
   "id": "87a4ba5a",
   "metadata": {},
   "source": [
    "### Spliting of Data"
   ]
  },
  {
   "cell_type": "code",
   "execution_count": 139,
   "id": "34ef76f1",
   "metadata": {},
   "outputs": [],
   "source": [
    "x = np.array(data[['Age', 'Gender', 'Protein1', 'Protein2', 'Protein3','Protein4', \n",
    "                   'Tumour_Stage', 'Histology', 'ER status', 'PR status', \n",
    "                   'HER2 status', 'Surgery_type']])\n",
    "y = np.array(data[['Patient_Status']])"
   ]
  },
  {
   "cell_type": "code",
   "execution_count": 140,
   "id": "0ed285ee",
   "metadata": {},
   "outputs": [
    {
     "name": "stdout",
     "output_type": "stream",
     "text": [
      "[[42.       1.       0.95256 ...  1.       2.       1.     ]\n",
      " [54.       1.       0.      ...  1.       2.       1.     ]\n",
      " [63.       1.      -0.52303 ...  1.       2.       3.     ]\n",
      " ...\n",
      " [54.       1.       0.75382 ...  1.       2.       4.     ]\n",
      " [74.       1.       0.97251 ...  1.       2.       3.     ]\n",
      " [66.       1.       0.28638 ...  1.       2.       2.     ]]\n"
     ]
    }
   ],
   "source": [
    "print(x)"
   ]
  },
  {
   "cell_type": "code",
   "execution_count": 141,
   "id": "0a91be20",
   "metadata": {},
   "outputs": [
    {
     "name": "stdout",
     "output_type": "stream",
     "text": [
      "[['Alive']\n",
      " ['Dead']\n",
      " ['Alive']\n",
      " ['Alive']\n",
      " ['Alive']\n",
      " ['Alive']\n",
      " ['Alive']\n",
      " ['Alive']\n",
      " ['Alive']\n",
      " ['Alive']\n",
      " ['Alive']\n",
      " ['Alive']\n",
      " ['Alive']\n",
      " ['Alive']\n",
      " ['Alive']\n",
      " ['Alive']\n",
      " ['Dead']\n",
      " ['Alive']\n",
      " ['Alive']\n",
      " ['Alive']\n",
      " ['Dead']\n",
      " ['Alive']\n",
      " ['Alive']\n",
      " ['Alive']\n",
      " ['Dead']\n",
      " ['Dead']\n",
      " ['Alive']\n",
      " ['Alive']\n",
      " ['Alive']\n",
      " ['Alive']\n",
      " ['Dead']\n",
      " ['Dead']\n",
      " ['Dead']\n",
      " ['Alive']\n",
      " ['Alive']\n",
      " ['Alive']\n",
      " ['Dead']\n",
      " ['Dead']\n",
      " ['Alive']\n",
      " ['Alive']\n",
      " ['Alive']\n",
      " ['Alive']\n",
      " ['Dead']\n",
      " ['Alive']\n",
      " ['Alive']\n",
      " ['Alive']\n",
      " ['Alive']\n",
      " ['Alive']\n",
      " ['Alive']\n",
      " ['Alive']\n",
      " ['Alive']\n",
      " ['Alive']\n",
      " ['Dead']\n",
      " ['Alive']\n",
      " ['Alive']\n",
      " ['Alive']\n",
      " ['Alive']\n",
      " ['Alive']\n",
      " ['Alive']\n",
      " ['Alive']\n",
      " ['Alive']\n",
      " ['Alive']\n",
      " ['Alive']\n",
      " ['Alive']\n",
      " ['Alive']\n",
      " ['Alive']\n",
      " ['Alive']\n",
      " ['Alive']\n",
      " ['Alive']\n",
      " ['Alive']\n",
      " ['Alive']\n",
      " ['Alive']\n",
      " ['Dead']\n",
      " ['Alive']\n",
      " ['Alive']\n",
      " ['Alive']\n",
      " ['Alive']\n",
      " ['Alive']\n",
      " ['Alive']\n",
      " ['Alive']\n",
      " ['Alive']\n",
      " ['Alive']\n",
      " ['Alive']\n",
      " ['Alive']\n",
      " ['Alive']\n",
      " ['Alive']\n",
      " ['Alive']\n",
      " ['Alive']\n",
      " ['Alive']\n",
      " ['Alive']\n",
      " ['Alive']\n",
      " ['Alive']\n",
      " ['Dead']\n",
      " ['Dead']\n",
      " ['Dead']\n",
      " ['Alive']\n",
      " ['Alive']\n",
      " ['Alive']\n",
      " ['Alive']\n",
      " ['Alive']\n",
      " ['Dead']\n",
      " ['Alive']\n",
      " ['Alive']\n",
      " ['Dead']\n",
      " ['Alive']\n",
      " ['Alive']\n",
      " ['Alive']\n",
      " ['Alive']\n",
      " ['Dead']\n",
      " ['Alive']\n",
      " ['Alive']\n",
      " ['Alive']\n",
      " ['Alive']\n",
      " ['Alive']\n",
      " ['Alive']\n",
      " ['Dead']\n",
      " ['Alive']\n",
      " ['Alive']\n",
      " ['Alive']\n",
      " ['Alive']\n",
      " ['Dead']\n",
      " ['Alive']\n",
      " ['Alive']\n",
      " ['Dead']\n",
      " ['Alive']\n",
      " ['Alive']\n",
      " ['Alive']\n",
      " ['Alive']\n",
      " ['Alive']\n",
      " ['Alive']\n",
      " ['Alive']\n",
      " ['Alive']\n",
      " ['Alive']\n",
      " ['Alive']\n",
      " ['Dead']\n",
      " ['Alive']\n",
      " ['Dead']\n",
      " ['Alive']\n",
      " ['Dead']\n",
      " ['Alive']\n",
      " ['Alive']\n",
      " ['Dead']\n",
      " ['Alive']\n",
      " ['Alive']\n",
      " ['Alive']\n",
      " ['Dead']\n",
      " ['Dead']\n",
      " ['Alive']\n",
      " ['Alive']\n",
      " ['Alive']\n",
      " ['Alive']\n",
      " ['Alive']\n",
      " ['Alive']\n",
      " ['Alive']\n",
      " ['Alive']\n",
      " ['Alive']\n",
      " ['Alive']\n",
      " ['Alive']\n",
      " ['Alive']\n",
      " ['Alive']\n",
      " ['Dead']\n",
      " ['Alive']\n",
      " ['Alive']\n",
      " ['Alive']\n",
      " ['Alive']\n",
      " ['Alive']\n",
      " ['Dead']\n",
      " ['Alive']\n",
      " ['Alive']\n",
      " ['Alive']\n",
      " ['Alive']\n",
      " ['Dead']\n",
      " ['Alive']\n",
      " ['Alive']\n",
      " ['Dead']\n",
      " ['Dead']\n",
      " ['Alive']\n",
      " ['Alive']\n",
      " ['Alive']\n",
      " ['Alive']\n",
      " ['Alive']\n",
      " ['Alive']\n",
      " ['Dead']\n",
      " ['Alive']\n",
      " ['Alive']\n",
      " ['Alive']\n",
      " ['Alive']\n",
      " ['Alive']\n",
      " ['Alive']\n",
      " ['Alive']\n",
      " ['Alive']\n",
      " ['Dead']\n",
      " ['Dead']\n",
      " ['Alive']\n",
      " ['Alive']\n",
      " ['Dead']\n",
      " ['Alive']\n",
      " ['Dead']\n",
      " ['Alive']\n",
      " ['Alive']\n",
      " ['Alive']\n",
      " ['Dead']\n",
      " ['Dead']\n",
      " ['Alive']\n",
      " ['Dead']\n",
      " ['Alive']\n",
      " ['Alive']\n",
      " ['Alive']\n",
      " ['Alive']\n",
      " ['Alive']\n",
      " ['Alive']\n",
      " ['Alive']\n",
      " ['Alive']\n",
      " ['Dead']\n",
      " ['Alive']\n",
      " ['Dead']\n",
      " ['Alive']\n",
      " ['Alive']\n",
      " ['Alive']\n",
      " ['Alive']\n",
      " ['Alive']\n",
      " ['Alive']\n",
      " ['Alive']\n",
      " ['Alive']\n",
      " ['Alive']\n",
      " ['Alive']\n",
      " ['Alive']\n",
      " ['Alive']\n",
      " ['Alive']\n",
      " ['Alive']\n",
      " ['Alive']\n",
      " ['Dead']\n",
      " ['Alive']\n",
      " ['Alive']\n",
      " ['Dead']\n",
      " ['Alive']\n",
      " ['Alive']\n",
      " ['Alive']\n",
      " ['Dead']\n",
      " ['Dead']\n",
      " ['Alive']\n",
      " ['Dead']\n",
      " ['Alive']\n",
      " ['Alive']\n",
      " ['Dead']\n",
      " ['Alive']\n",
      " ['Alive']\n",
      " ['Alive']\n",
      " ['Alive']\n",
      " ['Alive']\n",
      " ['Alive']\n",
      " ['Alive']\n",
      " ['Dead']\n",
      " ['Alive']\n",
      " ['Alive']\n",
      " ['Alive']\n",
      " ['Alive']\n",
      " ['Alive']\n",
      " ['Alive']\n",
      " ['Alive']\n",
      " ['Dead']\n",
      " ['Alive']\n",
      " ['Alive']\n",
      " ['Alive']\n",
      " ['Alive']\n",
      " ['Alive']\n",
      " ['Alive']\n",
      " ['Alive']\n",
      " ['Dead']\n",
      " ['Alive']\n",
      " ['Alive']\n",
      " ['Alive']\n",
      " ['Alive']\n",
      " ['Dead']\n",
      " ['Alive']\n",
      " ['Alive']\n",
      " ['Alive']\n",
      " ['Alive']\n",
      " ['Alive']\n",
      " ['Alive']\n",
      " ['Dead']\n",
      " ['Alive']\n",
      " ['Alive']\n",
      " ['Alive']\n",
      " ['Alive']\n",
      " ['Alive']\n",
      " ['Alive']\n",
      " ['Alive']\n",
      " ['Alive']\n",
      " ['Dead']\n",
      " ['Alive']\n",
      " ['Alive']\n",
      " ['Alive']\n",
      " ['Alive']\n",
      " ['Alive']\n",
      " ['Dead']\n",
      " ['Alive']\n",
      " ['Dead']\n",
      " ['Alive']\n",
      " ['Dead']\n",
      " ['Dead']\n",
      " ['Alive']\n",
      " ['Alive']\n",
      " ['Alive']\n",
      " ['Alive']\n",
      " ['Alive']\n",
      " ['Alive']\n",
      " ['Alive']\n",
      " ['Alive']\n",
      " ['Alive']\n",
      " ['Dead']\n",
      " ['Alive']\n",
      " ['Alive']\n",
      " ['Alive']\n",
      " ['Dead']\n",
      " ['Alive']\n",
      " ['Dead']]\n"
     ]
    }
   ],
   "source": [
    "print(y)"
   ]
  },
  {
   "cell_type": "markdown",
   "id": "e85b99cc",
   "metadata": {},
   "source": [
    "## Spliting of data into Training and Testing model"
   ]
  },
  {
   "cell_type": "code",
   "execution_count": 142,
   "id": "cf3facc9",
   "metadata": {},
   "outputs": [],
   "source": [
    "from sklearn.model_selection import train_test_split\n",
    "xtrain, xtest, ytrain, ytest = train_test_split(x, y, test_size=0.20, random_state=1)"
   ]
  },
  {
   "cell_type": "code",
   "execution_count": 143,
   "id": "270ad477",
   "metadata": {},
   "outputs": [],
   "source": [
    "from sklearn.cluster import KMeans\n",
    "KM=KMeans(n_clusters=2)\n",
    "yest=KM.fit_predict(xtest)"
   ]
  },
  {
   "cell_type": "code",
   "execution_count": 144,
   "id": "7997f698",
   "metadata": {},
   "outputs": [
    {
     "name": "stdout",
     "output_type": "stream",
     "text": [
      "[1 0 1 1 1 0 0 1 1 1 1 1 0 0 0 1 0 1 0 1 1 1 1 0 1 0 1 0 0 1 1 1 0 1 0 1 1\n",
      " 1 1 0 1 1 0 1 1 1 1 1 0 1 1 1 0 0 1 0 1 1 0 0 0 1 0 1]\n",
      "(64,)\n"
     ]
    }
   ],
   "source": [
    "print(yest)\n",
    "print(yest.shape)"
   ]
  },
  {
   "cell_type": "code",
   "execution_count": 145,
   "id": "85fd7343",
   "metadata": {},
   "outputs": [
    {
     "data": {
      "image/png": "[encoded data removed]",
      "text/plain": [
       "<Figure size 432x288 with 1 Axes>"
      ]
     },
     "metadata": {
      "needs_background": "light"
     },
     "output_type": "display_data"
    }
   ],
   "source": [
    "py.scatter(xtest[yest==0,0],xtest[yest==0,1],c='blue',label='Cluster 0')\n",
    "py.scatter(xtest[yest==1,0],xtest[yest==1,1],c='red',label='Cluster 1')\n",
    "py.scatter(xtest[yest==2,0],xtest[yest==2,1],c='green',label='Cluster 2')\n",
    "py.scatter(xtest[yest==3,0],xtest[yest==3,1],c='violet',label='Cluster 3')\n",
    "py.legend()\n",
    "py.xlabel('xtest')\n",
    "py.ylabel('y estimate')\n",
    "py.show()"
   ]
  },
  {
   "cell_type": "markdown",
   "id": "d30a4ec5",
   "metadata": {},
   "source": [
    "## Gausaian Naive Baye's"
   ]
  },
  {
   "cell_type": "code",
   "execution_count": 146,
   "id": "1d00284b",
   "metadata": {},
   "outputs": [
    {
     "name": "stderr",
     "output_type": "stream",
     "text": [
      "C:\\Users\\Akansha\\anaconda3\\lib\\site-packages\\sklearn\\utils\\validation.py:993: DataConversionWarning: A column-vector y was passed when a 1d array was expected. Please change the shape of y to (n_samples, ), for example using ravel().\n",
      "  y = column_or_1d(y, warn=True)\n"
     ]
    },
    {
     "data": {
      "text/plain": [
       "GaussianNB()"
      ]
     },
     "execution_count": 146,
     "metadata": {},
     "output_type": "execute_result"
    }
   ],
   "source": [
    "from sklearn.naive_bayes import GaussianNB\n",
    "NB=GaussianNB()\n",
    "NB.fit(xtrain,ytrain)"
   ]
  },
  {
   "cell_type": "code",
   "execution_count": 147,
   "id": "035c506c",
   "metadata": {},
   "outputs": [
    {
     "name": "stdout",
     "output_type": "stream",
     "text": [
      "[['Dead' 'Alive']\n",
      " ['Dead' 'Alive']\n",
      " ['Dead' 'Dead']\n",
      " ['Dead' 'Dead']\n",
      " ['Dead' 'Alive']\n",
      " ['Dead' 'Alive']\n",
      " ['Dead' 'Alive']\n",
      " ['Dead' 'Alive']\n",
      " ['Alive' 'Alive']\n",
      " ['Dead' 'Dead']\n",
      " ['Dead' 'Alive']\n",
      " ['Dead' 'Alive']\n",
      " ['Dead' 'Alive']\n",
      " ['Dead' 'Alive']\n",
      " ['Dead' 'Alive']\n",
      " ['Dead' 'Dead']\n",
      " ['Dead' 'Alive']\n",
      " ['Dead' 'Alive']\n",
      " ['Alive' 'Dead']\n",
      " ['Dead' 'Alive']\n",
      " ['Dead' 'Alive']\n",
      " ['Dead' 'Alive']\n",
      " ['Dead' 'Alive']\n",
      " ['Dead' 'Alive']\n",
      " ['Alive' 'Alive']\n",
      " ['Dead' 'Dead']\n",
      " ['Dead' 'Alive']\n",
      " ['Dead' 'Alive']\n",
      " ['Dead' 'Alive']\n",
      " ['Dead' 'Alive']\n",
      " ['Alive' 'Alive']\n",
      " ['Dead' 'Dead']\n",
      " ['Dead' 'Alive']\n",
      " ['Dead' 'Alive']\n",
      " ['Dead' 'Alive']\n",
      " ['Dead' 'Alive']\n",
      " ['Dead' 'Alive']\n",
      " ['Dead' 'Alive']\n",
      " ['Dead' 'Dead']\n",
      " ['Dead' 'Dead']\n",
      " ['Dead' 'Alive']\n",
      " ['Dead' 'Alive']\n",
      " ['Dead' 'Dead']\n",
      " ['Dead' 'Dead']\n",
      " ['Dead' 'Alive']\n",
      " ['Dead' 'Dead']\n",
      " ['Alive' 'Dead']\n",
      " ['Dead' 'Alive']\n",
      " ['Alive' 'Alive']\n",
      " ['Dead' 'Alive']\n",
      " ['Dead' 'Alive']\n",
      " ['Dead' 'Alive']\n",
      " ['Dead' 'Alive']\n",
      " ['Alive' 'Dead']\n",
      " ['Dead' 'Alive']\n",
      " ['Dead' 'Alive']\n",
      " ['Dead' 'Alive']\n",
      " ['Alive' 'Alive']\n",
      " ['Alive' 'Alive']\n",
      " ['Dead' 'Alive']\n",
      " ['Dead' 'Alive']\n",
      " ['Dead' 'Alive']\n",
      " ['Dead' 'Alive']\n",
      " ['Alive' 'Alive']]\n"
     ]
    }
   ],
   "source": [
    "ypredict=NB.predict(xtest)\n",
    "print(np.concatenate((ypredict.reshape(len(ypredict),1),ytest.reshape(len(ytest),1)),1))"
   ]
  },
  {
   "cell_type": "code",
   "execution_count": 148,
   "id": "9af54194",
   "metadata": {},
   "outputs": [
    {
     "name": "stdout",
     "output_type": "stream",
     "text": [
      "[[ 7 43]\n",
      " [ 3 11]]\n",
      "0.28125\n",
      "0.2037037037037037\n"
     ]
    }
   ],
   "source": [
    "from sklearn.metrics import confusion_matrix,accuracy_score,precision_score\n",
    "print(confusion_matrix(ytest,ypredict))\n",
    "print(accuracy_score(ytest,ypredict))\n",
    "print(precision_score(ytest,ypredict,pos_label='Dead'))"
   ]
  },
  {
   "cell_type": "code",
   "execution_count": 149,
   "id": "7419d974",
   "metadata": {},
   "outputs": [
    {
     "name": "stdout",
     "output_type": "stream",
     "text": [
      "[0 0 1 1 0 0 0 0 0 1 0 0 0 0 0 1 0 0 1 0 0 0 0 0 0 1 0 0 0 0 0 1 0 0 0 0 0\n",
      " 0 1 1 0 0 1 1 0 1 1 0 0 0 0 0 0 1 0 0 0 0 0 0 0 0 0 0]\n",
      "y predict [1 1 1 1 1 1 1 1 0 1 1 1 1 1 1 1 1 1 0 1 1 1 1 1 0 1 1 1 1 1 0 1 1 1 1 1 1\n",
      " 1 1 1 1 1 1 1 1 1 0 1 0 1 1 1 1 0 1 1 1 0 0 1 1 1 1 0]\n"
     ]
    },
    {
     "name": "stderr",
     "output_type": "stream",
     "text": [
      "C:\\Users\\Akansha\\anaconda3\\lib\\site-packages\\sklearn\\preprocessing\\_label.py:115: DataConversionWarning: A column-vector y was passed when a 1d array was expected. Please change the shape of y to (n_samples, ), for example using ravel().\n",
      "  y = column_or_1d(y, warn=True)\n"
     ]
    }
   ],
   "source": [
    "from sklearn.preprocessing import LabelEncoder\n",
    "label_encoder = LabelEncoder()\n",
    "ytest_numeric = label_encoder.fit_transform(ytest)\n",
    "print(ytest_numeric)\n",
    "ypredict_numeric = label_encoder.transform(ypredict)\n",
    "print(f'y predict {ypredict_numeric}')"
   ]
  },
  {
   "cell_type": "code",
   "execution_count": 150,
   "id": "1de21f35",
   "metadata": {},
   "outputs": [
    {
     "name": "stdout",
     "output_type": "stream",
     "text": [
      "mean absolute error is =0.71875\n",
      "mean squared error is =0.71875\n",
      "f1 score is =0.32352941176470584\n",
      "mean squared root error =0.8477912478906585\n",
      "recall score =0.0\n"
     ]
    },
    {
     "name": "stderr",
     "output_type": "stream",
     "text": [
      "C:\\Users\\Akansha\\anaconda3\\lib\\site-packages\\sklearn\\metrics\\_classification.py:217: FutureWarning: elementwise comparison failed; returning scalar instead, but in the future will perform elementwise comparison\n",
      "  score = y_true == y_pred\n"
     ]
    }
   ],
   "source": [
    "from sklearn.metrics import mean_absolute_error,f1_score,mean_squared_error,recall_score\n",
    "mean_absolute_error(ytest_numeric,ypredict_numeric)\n",
    "mean_squared_error(ytest_numeric,ypredict_numeric)\n",
    "f1_score(ytest_numeric,ypredict_numeric)\n",
    "print(f'mean absolute error is ={mean_absolute_error(ytest_numeric,ypredict_numeric)}')\n",
    "print(f'mean squared error is ={mean_squared_error(ytest_numeric,ypredict_numeric)}')\n",
    "print(f'f1 score is ={f1_score(ytest_numeric,ypredict_numeric)}')\n",
    "print(f'mean squared root error ={np.sqrt(mean_squared_error(ytest_numeric,ypredict_numeric))}')\n",
    "print(f'recall score ={NB.score(xtest,ypredict_numeric)}')"
   ]
  },
  {
   "cell_type": "code",
   "execution_count": 178,
   "id": "01989aff",
   "metadata": {},
   "outputs": [
    {
     "name": "stderr",
     "output_type": "stream",
     "text": [
      "C:\\Users\\Akansha\\AppData\\Local\\Temp\\ipykernel_29668\\2380919285.py:7: UserWarning: FixedFormatter should only be used together with FixedLocator\n",
      "  ax.set_xticklabels([''] + labels)\n",
      "C:\\Users\\Akansha\\AppData\\Local\\Temp\\ipykernel_29668\\2380919285.py:8: UserWarning: FixedFormatter should only be used together with FixedLocator\n",
      "  ax.set_yticklabels([''] + labels)\n"
     ]
    },
    {
     "name": "stdout",
     "output_type": "stream",
     "text": [
      "Confusion matrix:\n",
      " [[ 7 43]\n",
      " [ 3 11]]\n"
     ]
    },
    {
     "data": {
      "image/png": "[encoded data removed]",
      "text/plain": [
       "<Figure size 432x288 with 2 Axes>"
      ]
     },
     "metadata": {
      "needs_background": "light"
     },
     "output_type": "display_data"
    }
   ],
   "source": [
    "conf_mat = confusion_matrix(y_true=ytest_numeric, y_pred=ypredict_numeric)\n",
    "labels = ['Class 0', 'Class 1']\n",
    "fig = py.figure()\n",
    "ax = fig.add_subplot(111)\n",
    "cax = ax.matshow(conf_mat, cmap=py.cm.Blues)\n",
    "fig.colorbar(cax)\n",
    "ax.set_xticklabels([''] + labels)\n",
    "ax.set_yticklabels([''] + labels)\n",
    "py.xlabel('Predicted')\n",
    "py.ylabel('Expected')\n",
    "print('Confusion matrix:\\n', conf_mat)\n",
    "py.show()"
   ]
  },
  {
   "cell_type": "code",
   "execution_count": 152,
   "id": "8d4c3489",
   "metadata": {},
   "outputs": [
    {
     "name": "stdout",
     "output_type": "stream",
     "text": [
      "training score 0.2648221343873518\n",
      "test score 0.28125\n"
     ]
    }
   ],
   "source": [
    "print(f'training score {NB.score(xtrain,ytrain)}')\n",
    "print(f'test score {NB.score(xtest,ytest)}')"
   ]
  },
  {
   "cell_type": "markdown",
   "id": "11066d07",
   "metadata": {},
   "source": [
    "## Logistic regression"
   ]
  },
  {
   "cell_type": "code",
   "execution_count": 153,
   "id": "46a6fa0c",
   "metadata": {},
   "outputs": [
    {
     "name": "stdout",
     "output_type": "stream",
     "text": [
      "[['Alive' 'Alive']\n",
      " ['Alive' 'Alive']\n",
      " ['Alive' 'Dead']\n",
      " ['Alive' 'Dead']\n",
      " ['Alive' 'Alive']\n",
      " ['Alive' 'Alive']\n",
      " ['Alive' 'Alive']\n",
      " ['Alive' 'Alive']\n",
      " ['Alive' 'Alive']\n",
      " ['Alive' 'Dead']\n",
      " ['Alive' 'Alive']\n",
      " ['Alive' 'Alive']\n",
      " ['Alive' 'Alive']\n",
      " ['Alive' 'Alive']\n",
      " ['Alive' 'Alive']\n",
      " ['Alive' 'Dead']\n",
      " ['Alive' 'Alive']\n",
      " ['Alive' 'Alive']\n",
      " ['Alive' 'Dead']\n",
      " ['Alive' 'Alive']\n",
      " ['Alive' 'Alive']\n",
      " ['Alive' 'Alive']\n",
      " ['Alive' 'Alive']\n",
      " ['Alive' 'Alive']\n",
      " ['Alive' 'Alive']\n",
      " ['Alive' 'Dead']\n",
      " ['Alive' 'Alive']\n",
      " ['Alive' 'Alive']\n",
      " ['Alive' 'Alive']\n",
      " ['Alive' 'Alive']\n",
      " ['Alive' 'Alive']\n",
      " ['Alive' 'Dead']\n",
      " ['Alive' 'Alive']\n",
      " ['Alive' 'Alive']\n",
      " ['Alive' 'Alive']\n",
      " ['Alive' 'Alive']\n",
      " ['Alive' 'Alive']\n",
      " ['Alive' 'Alive']\n",
      " ['Alive' 'Dead']\n",
      " ['Alive' 'Dead']\n",
      " ['Alive' 'Alive']\n",
      " ['Alive' 'Alive']\n",
      " ['Alive' 'Dead']\n",
      " ['Alive' 'Dead']\n",
      " ['Alive' 'Alive']\n",
      " ['Alive' 'Dead']\n",
      " ['Alive' 'Dead']\n",
      " ['Alive' 'Alive']\n",
      " ['Alive' 'Alive']\n",
      " ['Alive' 'Alive']\n",
      " ['Alive' 'Alive']\n",
      " ['Alive' 'Alive']\n",
      " ['Alive' 'Alive']\n",
      " ['Alive' 'Dead']\n",
      " ['Alive' 'Alive']\n",
      " ['Alive' 'Alive']\n",
      " ['Alive' 'Alive']\n",
      " ['Alive' 'Alive']\n",
      " ['Alive' 'Alive']\n",
      " ['Alive' 'Alive']\n",
      " ['Alive' 'Alive']\n",
      " ['Alive' 'Alive']\n",
      " ['Alive' 'Alive']\n",
      " ['Alive' 'Alive']]\n"
     ]
    },
    {
     "name": "stderr",
     "output_type": "stream",
     "text": [
      "C:\\Users\\Akansha\\anaconda3\\lib\\site-packages\\sklearn\\utils\\validation.py:993: DataConversionWarning: A column-vector y was passed when a 1d array was expected. Please change the shape of y to (n_samples, ), for example using ravel().\n",
      "  y = column_or_1d(y, warn=True)\n",
      "C:\\Users\\Akansha\\anaconda3\\lib\\site-packages\\sklearn\\linear_model\\_logistic.py:814: ConvergenceWarning: lbfgs failed to converge (status=1):\n",
      "STOP: TOTAL NO. of ITERATIONS REACHED LIMIT.\n",
      "\n",
      "Increase the number of iterations (max_iter) or scale the data as shown in:\n",
      "    https://scikit-learn.org/stable/modules/preprocessing.html\n",
      "Please also refer to the documentation for alternative solver options:\n",
      "    https://scikit-learn.org/stable/modules/linear_model.html#logistic-regression\n",
      "  n_iter_i = _check_optimize_result(\n"
     ]
    }
   ],
   "source": [
    "from sklearn.linear_model import LogisticRegression\n",
    "lor=LogisticRegression()\n",
    "lor.fit(xtrain,ytrain)\n",
    "ypredict=lor.predict(xtest)\n",
    "print(np.concatenate((ypredict.reshape(len(ypredict),1),ytest.reshape(len(ytest),1)),1))"
   ]
  },
  {
   "cell_type": "code",
   "execution_count": 154,
   "id": "81d9f930",
   "metadata": {},
   "outputs": [
    {
     "name": "stdout",
     "output_type": "stream",
     "text": [
      "[[50  0]\n",
      " [14  0]]\n",
      "0.78125\n",
      "0.78125\n",
      "mean absolute error is =0.21875\n",
      "mean squared error is =0.21875\n",
      "f1 score is =0.0\n",
      "mean squared root error =0.46770717334674267\n",
      "recall score =1.0\n"
     ]
    }
   ],
   "source": [
    "from sklearn.metrics import confusion_matrix,accuracy_score,precision_score,mean_absolute_error,f1_score,mean_squared_error,recall_score\n",
    "print(confusion_matrix(ytest,ypredict))\n",
    "print(accuracy_score(ytest,ypredict))\n",
    "print(precision_score(ytest,ypredict,pos_label='Alive'))\n",
    "ypredict2_numeric = label_encoder.transform(ypredict)\n",
    "mean_absolute_error(ytest_numeric,ypredict2_numeric)\n",
    "mean_squared_error(ytest_numeric,ypredict2_numeric)\n",
    "f1_score(ytest_numeric,ypredict_numeric)\n",
    "print(f'mean absolute error is ={mean_absolute_error(ytest_numeric,ypredict2_numeric)}')\n",
    "print(f'mean squared error is ={mean_squared_error(ytest_numeric,ypredict2_numeric)}')\n",
    "print(f'f1 score is ={f1_score(ytest_numeric,ypredict2_numeric)}')\n",
    "print(f'mean squared root error ={np.sqrt(mean_squared_error(ytest_numeric,ypredict2_numeric))}')\n",
    "print(f'recall score ={lor.score(xtest,ypredict)}')"
   ]
  },
  {
   "cell_type": "code",
   "execution_count": 177,
   "id": "49bf76c4",
   "metadata": {},
   "outputs": [
    {
     "name": "stderr",
     "output_type": "stream",
     "text": [
      "C:\\Users\\Akansha\\AppData\\Local\\Temp\\ipykernel_29668\\1974367633.py:7: UserWarning: FixedFormatter should only be used together with FixedLocator\n",
      "  ax.set_xticklabels([''] + labels)\n",
      "C:\\Users\\Akansha\\AppData\\Local\\Temp\\ipykernel_29668\\1974367633.py:8: UserWarning: FixedFormatter should only be used together with FixedLocator\n",
      "  ax.set_yticklabels([''] + labels)\n"
     ]
    },
    {
     "name": "stdout",
     "output_type": "stream",
     "text": [
      "Confusion matrix:\n",
      " [[50  0]\n",
      " [14  0]]\n"
     ]
    },
    {
     "data": {
      "image/png": "[encoded data removed]",
      "text/plain": [
       "<Figure size 432x288 with 2 Axes>"
      ]
     },
     "metadata": {
      "needs_background": "light"
     },
     "output_type": "display_data"
    }
   ],
   "source": [
    "conf_mat = confusion_matrix(y_true=ytest_numeric, y_pred=ypredict2_numeric)\n",
    "labels = ['Class 0', 'Class 1']\n",
    "fig = py.figure()\n",
    "ax = fig.add_subplot(111)\n",
    "cax = ax.matshow(conf_mat, cmap=py.cm.Blues)\n",
    "fig.colorbar(cax)\n",
    "ax.set_xticklabels([''] + labels)\n",
    "ax.set_yticklabels([''] + labels)\n",
    "py.xlabel('Predicted')\n",
    "py.ylabel('Expected')\n",
    "print('Confusion matrix:\\n', conf_mat)\n",
    "py.show()"
   ]
  },
  {
   "cell_type": "code",
   "execution_count": 156,
   "id": "839599c1",
   "metadata": {},
   "outputs": [
    {
     "name": "stdout",
     "output_type": "stream",
     "text": [
      "training score for logistic Resgression 0.8102766798418972\n",
      "test score  for logistic Resgression 0.78125\n"
     ]
    }
   ],
   "source": [
    "print(f'training score for logistic Resgression {lor.score(xtrain,ytrain)}')\n",
    "print(f'test score  for logistic Resgression {lor.score(xtest,ytest)}')"
   ]
  },
  {
   "cell_type": "markdown",
   "id": "3b94c629",
   "metadata": {},
   "source": [
    "## Decision tree"
   ]
  },
  {
   "cell_type": "code",
   "execution_count": 157,
   "id": "4a7a01a4",
   "metadata": {},
   "outputs": [],
   "source": [
    "from sklearn.tree import DecisionTreeClassifier\n",
    "dt=DecisionTreeClassifier(criterion='entropy',max_depth=2)"
   ]
  },
  {
   "cell_type": "code",
   "execution_count": 158,
   "id": "a8650ce6",
   "metadata": {},
   "outputs": [
    {
     "data": {
      "text/plain": [
       "DecisionTreeClassifier(criterion='entropy', max_depth=2)"
      ]
     },
     "execution_count": 158,
     "metadata": {},
     "output_type": "execute_result"
    }
   ],
   "source": [
    "dt.fit(xtrain,ytrain)"
   ]
  },
  {
   "cell_type": "code",
   "execution_count": 159,
   "id": "b299c08d",
   "metadata": {},
   "outputs": [
    {
     "name": "stdout",
     "output_type": "stream",
     "text": [
      "['Alive' 'Alive' 'Alive' 'Alive' 'Alive' 'Alive' 'Alive' 'Alive' 'Alive'\n",
      " 'Alive' 'Alive' 'Alive' 'Alive' 'Alive' 'Alive' 'Alive' 'Alive' 'Alive'\n",
      " 'Alive' 'Alive' 'Alive' 'Alive' 'Alive' 'Alive' 'Alive' 'Alive' 'Alive'\n",
      " 'Alive' 'Alive' 'Alive' 'Alive' 'Alive' 'Alive' 'Alive' 'Dead' 'Alive'\n",
      " 'Alive' 'Alive' 'Alive' 'Alive' 'Alive' 'Alive' 'Alive' 'Alive' 'Alive'\n",
      " 'Alive' 'Alive' 'Alive' 'Alive' 'Alive' 'Alive' 'Alive' 'Alive' 'Alive'\n",
      " 'Alive' 'Alive' 'Alive' 'Alive' 'Alive' 'Alive' 'Alive' 'Alive' 'Alive'\n",
      " 'Alive']\n"
     ]
    }
   ],
   "source": [
    "yes_dt=dt.predict(xtest)\n",
    "print(yes_dt)"
   ]
  },
  {
   "cell_type": "code",
   "execution_count": 160,
   "id": "85fb1a37",
   "metadata": {},
   "outputs": [
    {
     "name": "stdout",
     "output_type": "stream",
     "text": [
      "[[49  1]\n",
      " [14  0]]\n",
      "0.765625\n",
      "0.7777777777777778\n",
      "mean absolute error is =0.234375\n",
      "mean squared error is =0.234375\n",
      "f1 score is =0.0\n",
      "mean squared root error =0.4841229182759271\n",
      "recall score =0.984375\n"
     ]
    }
   ],
   "source": [
    "from sklearn.metrics import confusion_matrix,accuracy_score,precision_score,mean_absolute_error,f1_score,mean_squared_error,recall_score\n",
    "print(confusion_matrix(ytest,yes_dt))\n",
    "print(accuracy_score(ytest,yes_dt))\n",
    "print(precision_score(ytest,yes_dt,pos_label='Alive'))\n",
    "yes_numeric = label_encoder.transform(yes_dt)\n",
    "mean_absolute_error(ytest_numeric,yes_numeric)\n",
    "mean_squared_error(ytest_numeric,yes_numeric)\n",
    "f1_score(ytest_numeric,yes_numeric)\n",
    "print(f'mean absolute error is ={mean_absolute_error(ytest_numeric,yes_numeric)}')\n",
    "print(f'mean squared error is ={mean_squared_error(ytest_numeric,yes_numeric)}')\n",
    "print(f'f1 score is ={f1_score(ytest_numeric,yes_numeric)}')\n",
    "print(f'mean squared root error ={np.sqrt(mean_squared_error(ytest_numeric,yes_numeric))}')\n",
    "print(f'recall score ={lor.score(xtest,yes_dt)}')"
   ]
  },
  {
   "cell_type": "code",
   "execution_count": 179,
   "id": "8f729d05",
   "metadata": {},
   "outputs": [
    {
     "name": "stdout",
     "output_type": "stream",
     "text": [
      "Confusion matrix:\n",
      " [[49  1]\n",
      " [14  0]]\n"
     ]
    },
    {
     "name": "stderr",
     "output_type": "stream",
     "text": [
      "C:\\Users\\Akansha\\AppData\\Local\\Temp\\ipykernel_29668\\2584299627.py:7: UserWarning: FixedFormatter should only be used together with FixedLocator\n",
      "  ax.set_xticklabels([''] + labels)\n",
      "C:\\Users\\Akansha\\AppData\\Local\\Temp\\ipykernel_29668\\2584299627.py:8: UserWarning: FixedFormatter should only be used together with FixedLocator\n",
      "  ax.set_yticklabels([''] + labels)\n"
     ]
    },
    {
     "data": {
      "image/png": "[encoded data removed]",
      "text/plain": [
       "<Figure size 432x288 with 2 Axes>"
      ]
     },
     "metadata": {
      "needs_background": "light"
     },
     "output_type": "display_data"
    }
   ],
   "source": [
    "conf_mat = confusion_matrix(y_true=ytest_numeric, y_pred=yes_numeric)\n",
    "labels = ['Class 0', 'Class 1']\n",
    "fig = py.figure()\n",
    "ax = fig.add_subplot(111)\n",
    "cax = ax.matshow(conf_mat, cmap=py.cm.Blues)\n",
    "fig.colorbar(cax)\n",
    "ax.set_xticklabels([''] + labels)\n",
    "ax.set_yticklabels([''] + labels)\n",
    "py.xlabel('Predicted')\n",
    "py.ylabel('Expected')\n",
    "print('Confusion matrix:\\n', conf_mat)\n",
    "py.show()"
   ]
  },
  {
   "cell_type": "code",
   "execution_count": 162,
   "id": "8fd0260f",
   "metadata": {},
   "outputs": [
    {
     "name": "stdout",
     "output_type": "stream",
     "text": [
      "training score for decision tree 0.8181818181818182\n",
      "test score  for decision tree 0.765625\n"
     ]
    }
   ],
   "source": [
    "print(f'training score for decision tree {dt.score(xtrain,ytrain)}')\n",
    "print(f'test score  for decision tree {dt.score(xtest,ytest)}')"
   ]
  },
  {
   "cell_type": "markdown",
   "id": "0f422448",
   "metadata": {},
   "source": [
    "## Random Forest"
   ]
  },
  {
   "cell_type": "code",
   "execution_count": 163,
   "id": "8a512598",
   "metadata": {},
   "outputs": [],
   "source": [
    "from sklearn.ensemble import RandomForestClassifier\n",
    "rf=RandomForestClassifier(n_estimators=700,criterion='entropy')"
   ]
  },
  {
   "cell_type": "code",
   "execution_count": 164,
   "id": "b316075a",
   "metadata": {},
   "outputs": [
    {
     "name": "stderr",
     "output_type": "stream",
     "text": [
      "C:\\Users\\Akansha\\AppData\\Local\\Temp\\ipykernel_29668\\2224009558.py:1: DataConversionWarning: A column-vector y was passed when a 1d array was expected. Please change the shape of y to (n_samples,), for example using ravel().\n",
      "  rf.fit(xtrain,ytrain)\n"
     ]
    },
    {
     "data": {
      "text/plain": [
       "RandomForestClassifier(criterion='entropy', n_estimators=700)"
      ]
     },
     "execution_count": 164,
     "metadata": {},
     "output_type": "execute_result"
    }
   ],
   "source": [
    "rf.fit(xtrain,ytrain)"
   ]
  },
  {
   "cell_type": "code",
   "execution_count": 165,
   "id": "81a2db16",
   "metadata": {},
   "outputs": [
    {
     "name": "stdout",
     "output_type": "stream",
     "text": [
      "['Alive' 'Alive' 'Alive' 'Alive' 'Alive' 'Alive' 'Alive' 'Alive' 'Alive'\n",
      " 'Alive' 'Alive' 'Alive' 'Alive' 'Alive' 'Alive' 'Alive' 'Alive' 'Alive'\n",
      " 'Alive' 'Alive' 'Alive' 'Alive' 'Alive' 'Alive' 'Alive' 'Alive' 'Alive'\n",
      " 'Alive' 'Alive' 'Alive' 'Alive' 'Alive' 'Alive' 'Alive' 'Alive' 'Alive'\n",
      " 'Alive' 'Alive' 'Alive' 'Alive' 'Alive' 'Alive' 'Alive' 'Alive' 'Alive'\n",
      " 'Alive' 'Alive' 'Alive' 'Alive' 'Alive' 'Alive' 'Alive' 'Alive' 'Alive'\n",
      " 'Alive' 'Alive' 'Alive' 'Alive' 'Alive' 'Alive' 'Alive' 'Alive' 'Alive'\n",
      " 'Alive']\n"
     ]
    }
   ],
   "source": [
    "yest_rf=rf.predict(xtest)\n",
    "print(yest_rf)"
   ]
  },
  {
   "cell_type": "code",
   "execution_count": 166,
   "id": "8b489e41",
   "metadata": {},
   "outputs": [
    {
     "name": "stdout",
     "output_type": "stream",
     "text": [
      "[[50  0]\n",
      " [14  0]]\n",
      "0.78125\n",
      "0.78125\n",
      "mean absolute error is =0.21875\n",
      "mean squared error is =0.21875\n",
      "f1 score is =0.0\n",
      "mean squared root error =0.46770717334674267\n",
      "recall score =1.0\n"
     ]
    }
   ],
   "source": [
    "from sklearn.metrics import confusion_matrix,accuracy_score,precision_score,mean_absolute_error,f1_score,mean_squared_error,recall_score\n",
    "print(confusion_matrix(ytest,yest_rf))\n",
    "print(accuracy_score(ytest,yest_rf))\n",
    "print(precision_score(ytest,yest_rf,pos_label='Alive'))\n",
    "yest_numeric = label_encoder.transform(yest_rf)\n",
    "mean_absolute_error(ytest_numeric,yest_numeric)\n",
    "mean_squared_error(ytest_numeric,yest_numeric)\n",
    "f1_score(ytest_numeric,yest_numeric)\n",
    "print(f'mean absolute error is ={mean_absolute_error(ytest_numeric,yest_numeric)}')\n",
    "print(f'mean squared error is ={mean_squared_error(ytest_numeric,yest_numeric)}')\n",
    "print(f'f1 score is ={f1_score(ytest_numeric,yest_numeric)}')\n",
    "print(f'mean squared root error ={np.sqrt(mean_squared_error(ytest_numeric,yest_numeric))}')\n",
    "print(f'recall score ={rf.score(xtest,yest_rf)}')"
   ]
  },
  {
   "cell_type": "code",
   "execution_count": 175,
   "id": "4298f676",
   "metadata": {},
   "outputs": [
    {
     "name": "stderr",
     "output_type": "stream",
     "text": [
      "C:\\Users\\Akansha\\AppData\\Local\\Temp\\ipykernel_29668\\136150065.py:7: UserWarning: FixedFormatter should only be used together with FixedLocator\n",
      "  ax.set_xticklabels([''] + labels)\n",
      "C:\\Users\\Akansha\\AppData\\Local\\Temp\\ipykernel_29668\\136150065.py:8: UserWarning: FixedFormatter should only be used together with FixedLocator\n",
      "  ax.set_yticklabels([''] + labels)\n"
     ]
    },
    {
     "name": "stdout",
     "output_type": "stream",
     "text": [
      "Confusion matrix:\n",
      " [[50  0]\n",
      " [14  0]]\n"
     ]
    },
    {
     "data": {
      "image/png": "[encoded data removed]",
      "text/plain": [
       "<Figure size 432x288 with 2 Axes>"
      ]
     },
     "metadata": {
      "needs_background": "light"
     },
     "output_type": "display_data"
    }
   ],
   "source": [
    "conf_mat = confusion_matrix(y_true=ytest_numeric, y_pred=yest_numeric)\n",
    "labels = ['Class 0', 'Class 1']\n",
    "fig = py.figure()\n",
    "ax = fig.add_subplot(111)\n",
    "cax = ax.matshow(conf_mat, cmap=py.cm.Blues)\n",
    "fig.colorbar(cax)\n",
    "ax.set_xticklabels([''] + labels)\n",
    "ax.set_yticklabels([''] + labels)\n",
    "py.xlabel('Predicted')\n",
    "py.ylabel('Expected')\n",
    "print('Confusion matrix:\\n', conf_mat)\n",
    "py.show()"
   ]
  },
  {
   "cell_type": "code",
   "execution_count": 168,
   "id": "4e5cdf95",
   "metadata": {},
   "outputs": [
    {
     "name": "stdout",
     "output_type": "stream",
     "text": [
      "training score for Random Forest 1.0\n",
      "test score  for Random Forest 0.78125\n"
     ]
    }
   ],
   "source": [
    "print(f'training score for Random Forest {rf.score(xtrain,ytrain)}')\n",
    "print(f'test score  for Random Forest {rf.score(xtest,ytest)}')"
   ]
  },
  {
   "cell_type": "markdown",
   "id": "479ea963",
   "metadata": {},
   "source": [
    "## KNearest-Neighbour"
   ]
  },
  {
   "cell_type": "code",
   "execution_count": 169,
   "id": "4e3ab28f",
   "metadata": {},
   "outputs": [
    {
     "name": "stderr",
     "output_type": "stream",
     "text": [
      "C:\\Users\\Akansha\\anaconda3\\lib\\site-packages\\sklearn\\neighbors\\_classification.py:198: DataConversionWarning: A column-vector y was passed when a 1d array was expected. Please change the shape of y to (n_samples,), for example using ravel().\n",
      "  return self._fit(X, y)\n"
     ]
    },
    {
     "data": {
      "text/plain": [
       "KNeighborsClassifier()"
      ]
     },
     "execution_count": 169,
     "metadata": {},
     "output_type": "execute_result"
    }
   ],
   "source": [
    "from sklearn.neighbors import KNeighborsClassifier\n",
    "KC=KNeighborsClassifier(n_neighbors=5)\n",
    "KC.fit(xtrain,ytrain)"
   ]
  },
  {
   "cell_type": "code",
   "execution_count": 170,
   "id": "ec68ab85",
   "metadata": {},
   "outputs": [
    {
     "name": "stdout",
     "output_type": "stream",
     "text": [
      "['Alive' 'Alive' 'Alive' 'Alive' 'Alive' 'Alive' 'Alive' 'Alive' 'Alive'\n",
      " 'Alive' 'Alive' 'Alive' 'Alive' 'Alive' 'Alive' 'Alive' 'Alive' 'Alive'\n",
      " 'Alive' 'Alive' 'Alive' 'Alive' 'Alive' 'Alive' 'Alive' 'Dead' 'Alive'\n",
      " 'Alive' 'Alive' 'Alive' 'Alive' 'Alive' 'Alive' 'Alive' 'Alive' 'Alive'\n",
      " 'Alive' 'Alive' 'Alive' 'Alive' 'Alive' 'Alive' 'Alive' 'Alive' 'Alive'\n",
      " 'Alive' 'Alive' 'Alive' 'Alive' 'Alive' 'Alive' 'Alive' 'Alive' 'Alive'\n",
      " 'Alive' 'Alive' 'Alive' 'Alive' 'Alive' 'Alive' 'Alive' 'Alive' 'Alive'\n",
      " 'Alive']\n"
     ]
    }
   ],
   "source": [
    "yest_knn=KC.predict(xtest)\n",
    "print(yest_knn)"
   ]
  },
  {
   "cell_type": "code",
   "execution_count": 171,
   "id": "cc310240",
   "metadata": {},
   "outputs": [
    {
     "name": "stdout",
     "output_type": "stream",
     "text": [
      "[[50  0]\n",
      " [13  1]]\n",
      "0.796875\n",
      "0.7936507936507936\n",
      "mean absolute error is =0.203125\n",
      "mean squared error is =0.203125\n",
      "f1 score is =0.13333333333333333\n",
      "mean squared root error =0.45069390943299864\n",
      "recall score =1.0\n",
      "training score 0.8181818181818182\n",
      "test score 0.796875\n"
     ]
    }
   ],
   "source": [
    "from sklearn.metrics import confusion_matrix,accuracy_score,precision_score,mean_absolute_error,f1_score,mean_squared_error,recall_score\n",
    "print(confusion_matrix(ytest,yest_knn))\n",
    "print(accuracy_score(ytest,yest_knn))\n",
    "print(precision_score(ytest,yest_knn,pos_label='Alive'))\n",
    "yestk_numeric = label_encoder.transform(yest_knn)\n",
    "mean_absolute_error(ytest_numeric,yestk_numeric)\n",
    "mean_squared_error(ytest_numeric,yestk_numeric)\n",
    "f1_score(ytest_numeric,yestk_numeric)\n",
    "print(f'mean absolute error is ={mean_absolute_error(ytest_numeric,yestk_numeric)}')\n",
    "print(f'mean squared error is ={mean_squared_error(ytest_numeric,yestk_numeric)}')\n",
    "print(f'f1 score is ={f1_score(ytest_numeric,yestk_numeric)}')\n",
    "print(f'mean squared root error ={np.sqrt(mean_squared_error(ytest_numeric,yestk_numeric))}')\n",
    "print(f'recall score ={KC.score(xtest,yest_knn)}')\n",
    "print(f'training score {KC.score(xtrain,ytrain)}')\n",
    "print(f'test score {KC.score(xtest,ytest)}')"
   ]
  },
  {
   "cell_type": "code",
   "execution_count": 172,
   "id": "6932dda5",
   "metadata": {},
   "outputs": [
    {
     "name": "stderr",
     "output_type": "stream",
     "text": [
      "C:\\Users\\Akansha\\AppData\\Local\\Temp\\ipykernel_29668\\2880051717.py:8: UserWarning: FixedFormatter should only be used together with FixedLocator\n",
      "  ax.set_xticklabels([''] + labels)\n",
      "C:\\Users\\Akansha\\AppData\\Local\\Temp\\ipykernel_29668\\2880051717.py:9: UserWarning: FixedFormatter should only be used together with FixedLocator\n",
      "  ax.set_yticklabels([''] + labels)\n"
     ]
    },
    {
     "name": "stdout",
     "output_type": "stream",
     "text": [
      "Confusion matrix:\n",
      " [[50  0]\n",
      " [13  1]]\n"
     ]
    },
    {
     "data": {
      "image/png": "[encoded data removed]",
      "text/plain": [
       "<Figure size 432x288 with 2 Axes>"
      ]
     },
     "metadata": {
      "needs_background": "light"
     },
     "output_type": "display_data"
    }
   ],
   "source": [
    "conf_mat = confusion_matrix(y_true=ytest_numeric, y_pred=yestk_numeric)\n",
    "print('Confusion matrix:\\n', conf_mat)\n",
    "labels = ['Class 0', 'Class 1']\n",
    "fig = py.figure()\n",
    "ax = fig.add_subplot(111)\n",
    "cax = ax.matshow(conf_mat, cmap=py.cm.Blues)\n",
    "fig.colorbar(cax)\n",
    "ax.set_xticklabels([''] + labels)\n",
    "ax.set_yticklabels([''] + labels)\n",
    "py.xlabel('Predicted')\n",
    "py.ylabel('Expected')\n",
    "py.show()"
   ]
  },
  {
   "cell_type": "markdown",
   "id": "808fe5d1",
   "metadata": {},
   "source": [
    "## Comparision between Models"
   ]
  },
  {
   "cell_type": "code",
   "execution_count": 173,
   "id": "c67ed8a9",
   "metadata": {},
   "outputs": [
    {
     "name": "stderr",
     "output_type": "stream",
     "text": [
      "C:\\Users\\Akansha\\anaconda3\\lib\\site-packages\\sklearn\\metrics\\_classification.py:1318: UndefinedMetricWarning: Precision is ill-defined and being set to 0.0 due to no predicted samples. Use `zero_division` parameter to control this behavior.\n",
      "  _warn_prf(average, modifier, msg_start, len(result))\n",
      "C:\\Users\\Akansha\\anaconda3\\lib\\site-packages\\sklearn\\metrics\\_classification.py:1318: UndefinedMetricWarning: Precision is ill-defined and being set to 0.0 due to no predicted samples. Use `zero_division` parameter to control this behavior.\n",
      "  _warn_prf(average, modifier, msg_start, len(result))\n"
     ]
    },
    {
     "data": {
      "text/html": [
       "<div>\n",
       "<style scoped>\n",
       "    .dataframe tbody tr th:only-of-type {\n",
       "        vertical-align: middle;\n",
       "    }\n",
       "\n",
       "    .dataframe tbody tr th {\n",
       "        vertical-align: top;\n",
       "    }\n",
       "\n",
       "    .dataframe thead th {\n",
       "        text-align: right;\n",
       "    }\n",
       "</style>\n",
       "<table border=\"1\" class=\"dataframe\">\n",
       "  <thead>\n",
       "    <tr style=\"text-align: right;\">\n",
       "      <th></th>\n",
       "      <th>Model</th>\n",
       "      <th>Accuracy</th>\n",
       "      <th>F1 Score</th>\n",
       "      <th>Recall</th>\n",
       "      <th>Precision</th>\n",
       "    </tr>\n",
       "  </thead>\n",
       "  <tbody>\n",
       "    <tr>\n",
       "      <th>0</th>\n",
       "      <td>Naive Bayes</td>\n",
       "      <td>0.281250</td>\n",
       "      <td>0.323529</td>\n",
       "      <td>0.785714</td>\n",
       "      <td>0.203704</td>\n",
       "    </tr>\n",
       "    <tr>\n",
       "      <th>1</th>\n",
       "      <td>Lgistic Regression</td>\n",
       "      <td>0.781250</td>\n",
       "      <td>0.000000</td>\n",
       "      <td>0.000000</td>\n",
       "      <td>0.000000</td>\n",
       "    </tr>\n",
       "    <tr>\n",
       "      <th>2</th>\n",
       "      <td>Decision Tree</td>\n",
       "      <td>0.765625</td>\n",
       "      <td>0.000000</td>\n",
       "      <td>0.000000</td>\n",
       "      <td>0.000000</td>\n",
       "    </tr>\n",
       "    <tr>\n",
       "      <th>3</th>\n",
       "      <td>Random Forest</td>\n",
       "      <td>0.781250</td>\n",
       "      <td>0.000000</td>\n",
       "      <td>0.000000</td>\n",
       "      <td>0.000000</td>\n",
       "    </tr>\n",
       "    <tr>\n",
       "      <th>4</th>\n",
       "      <td>KNN</td>\n",
       "      <td>0.796875</td>\n",
       "      <td>0.133333</td>\n",
       "      <td>0.071429</td>\n",
       "      <td>1.000000</td>\n",
       "    </tr>\n",
       "  </tbody>\n",
       "</table>\n",
       "</div>"
      ],
      "text/plain": [
       "                Model  Accuracy  F1 Score    Recall  Precision\n",
       "0         Naive Bayes  0.281250  0.323529  0.785714   0.203704\n",
       "1  Lgistic Regression  0.781250  0.000000  0.000000   0.000000\n",
       "2       Decision Tree  0.765625  0.000000  0.000000   0.000000\n",
       "3       Random Forest  0.781250  0.000000  0.000000   0.000000\n",
       "4                 KNN  0.796875  0.133333  0.071429   1.000000"
      ]
     },
     "execution_count": 173,
     "metadata": {},
     "output_type": "execute_result"
    }
   ],
   "source": [
    "models = ['Naive Bayes', 'Lgistic Regression', 'Decision Tree', 'Random Forest', 'KNN']\n",
    "\n",
    "metrics = {\n",
    "    'Model': models,\n",
    "    'Accuracy': [accuracy_score(ytest_numeric, y_pred) for y_pred in [ypredict_numeric,ypredict2_numeric, yes_numeric,yest_numeric,yestk_numeric]],\n",
    "    'F1 Score': [f1_score(ytest_numeric, y_pred) for y_pred in[ypredict_numeric,ypredict2_numeric, yes_numeric,yest_numeric,yestk_numeric]],\n",
    "    'Recall': [recall_score(ytest_numeric, y_pred) for y_pred in [ypredict_numeric,ypredict2_numeric, yes_numeric,yest_numeric,yestk_numeric]],\n",
    "    'Precision': [precision_score(ytest_numeric, y_pred) for y_pred in [ypredict_numeric,ypredict2_numeric, yes_numeric,yest_numeric,yestk_numeric]]\n",
    "}\n",
    "\n",
    "# Create a DataFrame from the metrics dictionary\n",
    "df_metrics = pd.DataFrame(metrics)\n",
    "df_metrics"
   ]
  },
  {
   "cell_type": "code",
   "execution_count": 182,
   "id": "2d0dc87c",
   "metadata": {},
   "outputs": [
    {
     "data": {
      "image/png": "[encoded data removed]",
      "text/plain": [
       "<Figure size 720x360 with 1 Axes>"
      ]
     },
     "metadata": {},
     "output_type": "display_data"
    },
    {
     "name": "stdout",
     "output_type": "stream",
     "text": [
      "The model with the maximum Accuracy is: KNN\n"
     ]
    }
   ],
   "source": [
    "import seaborn as sns\n",
    "Models = pd.DataFrame({\n",
    "    'Models': ['Naive Bayes', 'Lgistic Regression', 'Decision Tree', 'Random Forest', 'KNN'],\n",
    "    'Accuracy': [accuracy_score(ytest_numeric, y_pred)*100 for y_pred in [ypredict_numeric,ypredict2_numeric, yes_numeric,yest_numeric,yestk_numeric]]\n",
    "})\n",
    "py.figure(figsize=(10, 5))\n",
    "sns.set()\n",
    "sns.barplot(x='Models', y='Accuracy', data=Models, palette=\"Spectral_r\")\n",
    "py.xlabel('Models')\n",
    "py.ylabel('Accuracy(%)')\n",
    "py.title('Accuracy of Different Models')\n",
    "py.xticks(rotation=45)\n",
    "py.show()\n",
    "\n",
    "max_accuracy = Models.loc[Models['Accuracy'].idxmax(), 'Models']\n",
    "print(f\"The model with the maximum Accuracy is: {max_accuracy}\")"
   ]
  },
  {
   "cell_type": "markdown",
   "id": "3d669c07",
   "metadata": {},
   "source": [
    "## Prediction"
   ]
  },
  {
   "cell_type": "code",
   "execution_count": 174,
   "id": "3605441b",
   "metadata": {},
   "outputs": [
    {
     "name": "stdout",
     "output_type": "stream",
     "text": [
      "['Alive']\n"
     ]
    }
   ],
   "source": [
    "# features = [['Age', 'Gender', 'Protein1', 'Protein2', 'Protein3','Protein4', 'Tumour_Stage',\n",
    "#'Histology', 'ER status', 'PR status', 'HER2 status', 'Surgery_type']]\n",
    "\n",
    "features = np.array([[36.0, 1, 0.080353, 0.42638, 0.54715, 0.273680, 3, 1, 1, 1, 2, 2,]])\n",
    "print(KC.predict(features))"
   ]
  }
 ],
 "metadata": {
  "kernelspec": {
   "display_name": "Python 3 (ipykernel)",
   "language": "python",
   "name": "python3"
  },
  "language_info": {
   "codemirror_mode": {
    "name": "ipython",
    "version": 3
   },
   "file_extension": ".py",
   "mimetype": "text/x-python",
   "name": "python",
   "nbconvert_exporter": "python",
   "pygments_lexer": "ipython3",
   "version": "3.9.12"
  }
 },
 "nbformat": 4,
 "nbformat_minor": 5
}
